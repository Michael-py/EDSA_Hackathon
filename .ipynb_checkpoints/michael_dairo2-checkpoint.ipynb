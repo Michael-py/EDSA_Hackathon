{
 "cells": [
  {
   "cell_type": "code",
   "execution_count": 1,
   "id": "f61b4ac5-3057-40eb-bce5-9d84724eb6cc",
   "metadata": {},
   "outputs": [],
   "source": [
    "import pandas as pd\n",
    "import numpy as np\n",
    "import re\n",
    "\n",
    "import matplotlib.pyplot as plt\n",
    "import seaborn as sns\n",
    "%matplotlib inline\n",
    "# set plot style\n",
    "sns.set()\n",
    "\n",
    "from sklearn.preprocessing import LabelEncoder\n",
    "from nltk.tokenize import TreebankWordTokenizer\n",
    "\n",
    "from sklearn.model_selection import train_test_split, GridSearchCV\n",
    "from sklearn.linear_model import LogisticRegression\n",
    "from sklearn.ensemble import RandomForestClassifier, GradientBoostingClassifier\n",
    "from sklearn.svm import SVC\n",
    "from sklearn.metrics import confusion_matrix, ConfusionMatrixDisplay\n",
    "from sklearn.metrics import f1_score, classification_report, log_loss\n",
    "from sklearn.feature_extraction.text import TfidfVectorizer\n",
    "from sklearn.feature_extraction.text import CountVectorizer\n",
    "from sklearn.naive_bayes import GaussianNB, MultinomialNB\n",
    "from sklearn.neighbors import KNeighborsClassifier\n",
    "\n",
    "# Setting global constants to ensure notebook results are reproducible\n",
    "SEED = 1"
   ]
  },
  {
   "cell_type": "code",
   "execution_count": 2,
   "id": "e829fb39-1372-4556-b5b3-baedd6ca34b7",
   "metadata": {},
   "outputs": [],
   "source": [
    "train_set = pd.read_csv(\"train_set.csv\")\n",
    "test_set = pd.read_csv(\"test_set.csv\")\n",
    "sub = pd.read_csv(\"sample_submission.csv\")"
   ]
  },
  {
   "cell_type": "code",
   "execution_count": 3,
   "id": "8d9c2550-9ddc-4d7c-8d71-f0d323d29183",
   "metadata": {},
   "outputs": [
    {
     "data": {
      "text/html": [
       "<div>\n",
       "<style scoped>\n",
       "    .dataframe tbody tr th:only-of-type {\n",
       "        vertical-align: middle;\n",
       "    }\n",
       "\n",
       "    .dataframe tbody tr th {\n",
       "        vertical-align: top;\n",
       "    }\n",
       "\n",
       "    .dataframe thead th {\n",
       "        text-align: right;\n",
       "    }\n",
       "</style>\n",
       "<table border=\"1\" class=\"dataframe\">\n",
       "  <thead>\n",
       "    <tr style=\"text-align: right;\">\n",
       "      <th></th>\n",
       "      <th>lang_id</th>\n",
       "      <th>text</th>\n",
       "    </tr>\n",
       "  </thead>\n",
       "  <tbody>\n",
       "    <tr>\n",
       "      <th>0</th>\n",
       "      <td>xho</td>\n",
       "      <td>umgaqo-siseko wenza amalungiselelo kumaziko ax...</td>\n",
       "    </tr>\n",
       "    <tr>\n",
       "      <th>1</th>\n",
       "      <td>xho</td>\n",
       "      <td>i-dha iya kuba nobulumko bokubeka umsebenzi na...</td>\n",
       "    </tr>\n",
       "    <tr>\n",
       "      <th>2</th>\n",
       "      <td>eng</td>\n",
       "      <td>the province of kwazulu-natal department of tr...</td>\n",
       "    </tr>\n",
       "    <tr>\n",
       "      <th>3</th>\n",
       "      <td>nso</td>\n",
       "      <td>o netefatša gore o ba file dilo ka moka tše le...</td>\n",
       "    </tr>\n",
       "    <tr>\n",
       "      <th>4</th>\n",
       "      <td>ven</td>\n",
       "      <td>khomishini ya ndinganyiso ya mbeu yo ewa maana...</td>\n",
       "    </tr>\n",
       "  </tbody>\n",
       "</table>\n",
       "</div>"
      ],
      "text/plain": [
       "  lang_id                                               text\n",
       "0     xho  umgaqo-siseko wenza amalungiselelo kumaziko ax...\n",
       "1     xho  i-dha iya kuba nobulumko bokubeka umsebenzi na...\n",
       "2     eng  the province of kwazulu-natal department of tr...\n",
       "3     nso  o netefatša gore o ba file dilo ka moka tše le...\n",
       "4     ven  khomishini ya ndinganyiso ya mbeu yo ewa maana..."
      ]
     },
     "execution_count": 3,
     "metadata": {},
     "output_type": "execute_result"
    }
   ],
   "source": [
    "train_set.head()"
   ]
  },
  {
   "cell_type": "code",
   "execution_count": 4,
   "id": "c786a391-0a4d-4271-95ef-02cc457bf606",
   "metadata": {},
   "outputs": [
    {
     "data": {
      "text/html": [
       "<div>\n",
       "<style scoped>\n",
       "    .dataframe tbody tr th:only-of-type {\n",
       "        vertical-align: middle;\n",
       "    }\n",
       "\n",
       "    .dataframe tbody tr th {\n",
       "        vertical-align: top;\n",
       "    }\n",
       "\n",
       "    .dataframe thead th {\n",
       "        text-align: right;\n",
       "    }\n",
       "</style>\n",
       "<table border=\"1\" class=\"dataframe\">\n",
       "  <thead>\n",
       "    <tr style=\"text-align: right;\">\n",
       "      <th></th>\n",
       "      <th>index</th>\n",
       "      <th>text</th>\n",
       "    </tr>\n",
       "  </thead>\n",
       "  <tbody>\n",
       "    <tr>\n",
       "      <th>0</th>\n",
       "      <td>1</td>\n",
       "      <td>Mmasepala, fa maemo a a kgethegileng a letlele...</td>\n",
       "    </tr>\n",
       "    <tr>\n",
       "      <th>1</th>\n",
       "      <td>2</td>\n",
       "      <td>Uzakwaziswa ngokufaneleko nakungafuneka eminye...</td>\n",
       "    </tr>\n",
       "    <tr>\n",
       "      <th>2</th>\n",
       "      <td>3</td>\n",
       "      <td>Tshivhumbeo tshi fana na ngano dza vhathu.</td>\n",
       "    </tr>\n",
       "    <tr>\n",
       "      <th>3</th>\n",
       "      <td>4</td>\n",
       "      <td>Kube inja nelikati betingevakala kutsi titsini...</td>\n",
       "    </tr>\n",
       "    <tr>\n",
       "      <th>4</th>\n",
       "      <td>5</td>\n",
       "      <td>Winste op buitelandse valuta.</td>\n",
       "    </tr>\n",
       "  </tbody>\n",
       "</table>\n",
       "</div>"
      ],
      "text/plain": [
       "   index                                               text\n",
       "0      1  Mmasepala, fa maemo a a kgethegileng a letlele...\n",
       "1      2  Uzakwaziswa ngokufaneleko nakungafuneka eminye...\n",
       "2      3         Tshivhumbeo tshi fana na ngano dza vhathu.\n",
       "3      4  Kube inja nelikati betingevakala kutsi titsini...\n",
       "4      5                      Winste op buitelandse valuta."
      ]
     },
     "execution_count": 4,
     "metadata": {},
     "output_type": "execute_result"
    }
   ],
   "source": [
    "test_set.head()"
   ]
  },
  {
   "cell_type": "code",
   "execution_count": 5,
   "id": "87bbaeba-9f6a-42d6-8f03-40a44b331dfe",
   "metadata": {},
   "outputs": [],
   "source": [
    "uniq = train_set.lang_id.unique()\n",
    "dict_ = {}\n",
    "lang_words = []\n",
    "for lang in uniq:\n",
    "    # if lang != 'eng':\n",
    "    df = train_set.text[train_set.lang_id == lang]\n",
    "    dict_[lang] = np.asarray(df)\n",
    "\n",
    "for val in dict_.values():\n",
    "    lang_words.append(val.flatten())"
   ]
  },
  {
   "cell_type": "code",
   "execution_count": 6,
   "id": "5cb331a7-349a-422c-922a-a21ae0c9377b",
   "metadata": {},
   "outputs": [],
   "source": [
    "one = \" \".join(np.array(lang_words[0].flatten())).split()\n",
    "two = ' '.join(np.array(lang_words[1]).flatten()).split()\n",
    "three = ' '.join(np.array(lang_words[2]).flatten()).split()\n",
    "four = ' '.join(np.array(lang_words[3]).flatten()).split()\n",
    "five = ' '.join(np.array(lang_words[4]).flatten()).split()\n",
    "six = ' '.join(np.array(lang_words[5]).flatten()).split()\n",
    "seven = ' '.join(np.array(lang_words[6]).flatten()).split()\n",
    "eight = ' '.join(np.array(lang_words[7]).flatten()).split()\n",
    "nine = ' '.join(np.array(lang_words[8]).flatten()).split()\n",
    "ten = ' '.join(np.array(lang_words[9]).flatten()).split()\n",
    "eleven = ' '.join(np.array(lang_words[10]).flatten()).split()"
   ]
  },
  {
   "cell_type": "code",
   "execution_count": 7,
   "id": "28da39fc-7a4e-4f57-b49f-b569cc7ae300",
   "metadata": {},
   "outputs": [],
   "source": [
    "ones = set(one)\n",
    "twos = set(two)\n",
    "threes = set(three)\n",
    "fours = set(four)\n",
    "fives = set(five)\n",
    "sixs = set(six)\n",
    "sevens = set(seven)\n",
    "eights = set(eight)\n",
    "nines = set(nine)\n",
    "tens = set(ten)\n",
    "elevens = set(eleven)"
   ]
  },
  {
   "cell_type": "code",
   "execution_count": 8,
   "id": "a963fbc8-2bdd-44c8-8644-969e3efe628a",
   "metadata": {},
   "outputs": [
    {
     "name": "stdout",
     "output_type": "stream",
     "text": [
      "25478 10148 10726 8596 10997 21096 27036 23913 8988 9739\n"
     ]
    }
   ],
   "source": [
    "print(len(ones), len(twos), len(threes), len(fours), len(fives), len(sixs), len(sevens), len(eights), len(nines), len(tens))"
   ]
  },
  {
   "cell_type": "code",
   "execution_count": 9,
   "id": "c065b457-4337-40de-b5c4-e3147dcb0ccb",
   "metadata": {},
   "outputs": [],
   "source": [
    "common_words = ones.intersection(twos, threes, fours, fives, sixs, sevens, eights, nines, tens, elevens)"
   ]
  },
  {
   "cell_type": "code",
   "execution_count": 10,
   "id": "ccd00b0c-f072-44dc-a083-5a9504cb91c6",
   "metadata": {},
   "outputs": [
    {
     "data": {
      "image/png": "[encoded data removed]",
      "text/plain": [
       "<Figure size 432x288 with 1 Axes>"
      ]
     },
     "metadata": {},
     "output_type": "display_data"
    }
   ],
   "source": [
    "train_set.lang_id.value_counts().plot(kind='bar')\n",
    "plt.show()"
   ]
  },
  {
   "cell_type": "code",
   "execution_count": 11,
   "id": "f9a0674c-46bc-468e-a4d1-b64683c0f797",
   "metadata": {},
   "outputs": [],
   "source": [
    "# encode lang_id\n",
    "encoder = LabelEncoder()"
   ]
  },
  {
   "cell_type": "code",
   "execution_count": 12,
   "id": "906a9a38-1b64-48d3-be08-8555d5f1a314",
   "metadata": {},
   "outputs": [
    {
     "data": {
      "text/plain": [
       "array([ 9,  1,  3,  8,  6,  2, 10,  5,  7,  4,  0])"
      ]
     },
     "execution_count": 12,
     "metadata": {},
     "output_type": "execute_result"
    }
   ],
   "source": [
    "train_set.lang_id = encoder.fit_transform(train_set.lang_id)\n",
    "\n",
    "train_set.lang_id.unique()"
   ]
  },
  {
   "cell_type": "code",
   "execution_count": 13,
   "id": "0d6ab63a-497c-4c60-9c14-bcfa086d3a41",
   "metadata": {},
   "outputs": [
    {
     "data": {
      "text/html": [
       "<div>\n",
       "<style scoped>\n",
       "    .dataframe tbody tr th:only-of-type {\n",
       "        vertical-align: middle;\n",
       "    }\n",
       "\n",
       "    .dataframe tbody tr th {\n",
       "        vertical-align: top;\n",
       "    }\n",
       "\n",
       "    .dataframe thead th {\n",
       "        text-align: right;\n",
       "    }\n",
       "</style>\n",
       "<table border=\"1\" class=\"dataframe\">\n",
       "  <thead>\n",
       "    <tr style=\"text-align: right;\">\n",
       "      <th></th>\n",
       "      <th>lang_id</th>\n",
       "      <th>text</th>\n",
       "    </tr>\n",
       "  </thead>\n",
       "  <tbody>\n",
       "    <tr>\n",
       "      <th>0</th>\n",
       "      <td>9</td>\n",
       "      <td>umgaqo-siseko wenza amalungiselelo kumaziko ax...</td>\n",
       "    </tr>\n",
       "    <tr>\n",
       "      <th>1</th>\n",
       "      <td>9</td>\n",
       "      <td>i-dha iya kuba nobulumko bokubeka umsebenzi na...</td>\n",
       "    </tr>\n",
       "    <tr>\n",
       "      <th>2</th>\n",
       "      <td>1</td>\n",
       "      <td>the province of kwazulu-natal department of tr...</td>\n",
       "    </tr>\n",
       "    <tr>\n",
       "      <th>3</th>\n",
       "      <td>3</td>\n",
       "      <td>o netefatša gore o ba file dilo ka moka tše le...</td>\n",
       "    </tr>\n",
       "    <tr>\n",
       "      <th>4</th>\n",
       "      <td>8</td>\n",
       "      <td>khomishini ya ndinganyiso ya mbeu yo ewa maana...</td>\n",
       "    </tr>\n",
       "  </tbody>\n",
       "</table>\n",
       "</div>"
      ],
      "text/plain": [
       "   lang_id                                               text\n",
       "0        9  umgaqo-siseko wenza amalungiselelo kumaziko ax...\n",
       "1        9  i-dha iya kuba nobulumko bokubeka umsebenzi na...\n",
       "2        1  the province of kwazulu-natal department of tr...\n",
       "3        3  o netefatša gore o ba file dilo ka moka tše le...\n",
       "4        8  khomishini ya ndinganyiso ya mbeu yo ewa maana..."
      ]
     },
     "execution_count": 13,
     "metadata": {},
     "output_type": "execute_result"
    }
   ],
   "source": [
    "train_set.head()"
   ]
  },
  {
   "cell_type": "code",
   "execution_count": 14,
   "id": "c7d1c5e5-5717-4e5b-88d4-539b19b17db6",
   "metadata": {},
   "outputs": [
    {
     "name": "stdout",
     "output_type": "stream",
     "text": [
      "<class 'pandas.core.frame.DataFrame'>\n",
      "RangeIndex: 33000 entries, 0 to 32999\n",
      "Data columns (total 2 columns):\n",
      " #   Column   Non-Null Count  Dtype \n",
      "---  ------   --------------  ----- \n",
      " 0   lang_id  33000 non-null  int32 \n",
      " 1   text     33000 non-null  object\n",
      "dtypes: int32(1), object(1)\n",
      "memory usage: 257.9+ KB\n"
     ]
    }
   ],
   "source": [
    "train_set.info()"
   ]
  },
  {
   "cell_type": "code",
   "execution_count": 15,
   "id": "35c67f8a-44c2-4be5-b91f-9921feb302db",
   "metadata": {},
   "outputs": [
    {
     "name": "stdout",
     "output_type": "stream",
     "text": [
      "<class 'pandas.core.frame.DataFrame'>\n",
      "RangeIndex: 5682 entries, 0 to 5681\n",
      "Data columns (total 2 columns):\n",
      " #   Column  Non-Null Count  Dtype \n",
      "---  ------  --------------  ----- \n",
      " 0   index   5682 non-null   int64 \n",
      " 1   text    5682 non-null   object\n",
      "dtypes: int64(1), object(1)\n",
      "memory usage: 66.6+ KB\n"
     ]
    }
   ],
   "source": [
    "test_set.info()"
   ]
  },
  {
   "cell_type": "code",
   "execution_count": 16,
   "id": "0ab565a6-b6fb-45df-8116-9fd92d472462",
   "metadata": {
    "tags": []
   },
   "outputs": [],
   "source": [
    "def remove_stopwords(text, stop_words):\n",
    "    text = text.lower()\n",
    "    \n",
    "    text = \" \".join([word for word in text.split(\" \") if word not in stop_words])\n",
    "    text = \" \".join([word for word in text.split(\"\\n\") if word not in stop_words])\n",
    "    \n",
    "    return text"
   ]
  },
  {
   "cell_type": "code",
   "execution_count": 17,
   "id": "cc237634-dd65-4f1b-b89c-c75b693ce59f",
   "metadata": {
    "tags": []
   },
   "outputs": [],
   "source": [
    "train_set['text'] = train_set['text'].apply(remove_stopwords, args=(common_words,))"
   ]
  },
  {
   "cell_type": "code",
   "execution_count": 18,
   "id": "be730a2d-0415-4777-a243-c546cf19f995",
   "metadata": {
    "tags": []
   },
   "outputs": [],
   "source": [
    "def remove_punctuations(text):\n",
    "    # using regex to remove punctuations\n",
    "    text = re.sub(r'[^\\w\\s]', '', text)\n",
    "    return text"
   ]
  },
  {
   "cell_type": "code",
   "execution_count": 19,
   "id": "41f8f5ac-23f6-4b4d-9694-4441a128c227",
   "metadata": {
    "tags": []
   },
   "outputs": [],
   "source": [
    "train_set['text'] = train_set['text'].apply(remove_punctuations)"
   ]
  },
  {
   "cell_type": "code",
   "execution_count": 20,
   "id": "27142e37-3a07-491d-aac3-aa6d3d4912e7",
   "metadata": {},
   "outputs": [],
   "source": [
    "def preprocess(df, feature):\n",
    "    df[feature] = df[feature].apply(remove_stopwords, args=(common_words,))\n",
    "    df[feature] = df[feature].apply(remove_punctuations)\n",
    "    \n",
    "    return df"
   ]
  },
  {
   "cell_type": "code",
   "execution_count": 22,
   "id": "414dc578-e218-42eb-8503-aa864fa943a0",
   "metadata": {},
   "outputs": [],
   "source": [
    "def split(df, feature, label):\n",
    "    X = df[feature]\n",
    "    y = df[label]\n",
    "    \n",
    "    return X, y"
   ]
  },
  {
   "cell_type": "code",
   "execution_count": 23,
   "id": "46d25f04-8012-41a4-bc22-d5bb3f24f2c0",
   "metadata": {},
   "outputs": [],
   "source": [
    "train_set = preprocess(train_set, 'text')"
   ]
  },
  {
   "cell_type": "code",
   "execution_count": 24,
   "id": "c4e7bba0-d0f1-4e47-af30-12e17e7694c2",
   "metadata": {},
   "outputs": [],
   "source": [
    "X, y = split(train_set,'text', 'lang_id')"
   ]
  },
  {
   "cell_type": "code",
   "execution_count": 25,
   "id": "6062726a-3572-4bef-8aa2-f73021727ee9",
   "metadata": {},
   "outputs": [],
   "source": [
    "X_train, X_test, y_train, y_test = train_test_split(X, y, test_size=0.2, random_state=SEED)"
   ]
  },
  {
   "cell_type": "code",
   "execution_count": 26,
   "id": "5e4ed209-9371-42dc-9450-e66bae4b66e9",
   "metadata": {},
   "outputs": [],
   "source": [
    "vector = CountVectorizer()\n",
    "vector.fit(X_train)\n",
    "X_train = vector.transform(X_train)"
   ]
  },
  {
   "cell_type": "code",
   "execution_count": 27,
   "id": "869620e8-5625-4b68-a073-ed00765ba91d",
   "metadata": {},
   "outputs": [],
   "source": [
    "X_test = vector.transform(X_test)"
   ]
  },
  {
   "cell_type": "code",
   "execution_count": 28,
   "id": "918b3c56-915c-46fd-ad0e-9377513e624d",
   "metadata": {},
   "outputs": [
    {
     "name": "stdout",
     "output_type": "stream",
     "text": [
      "(26400, 127125) (6600, 127125)\n"
     ]
    }
   ],
   "source": [
    "print(X_train.shape, X_test.shape)"
   ]
  },
  {
   "cell_type": "code",
   "execution_count": 51,
   "id": "31170b5c-57a8-45b4-8bee-f0695f9ba06e",
   "metadata": {},
   "outputs": [],
   "source": [
    "model = MultinomialNB()"
   ]
  },
  {
   "cell_type": "code",
   "execution_count": 52,
   "id": "f5e76e20-07fb-4e14-9dcc-3f2f639d68e0",
   "metadata": {},
   "outputs": [
    {
     "data": {
      "text/plain": [
       "MultinomialNB()"
      ]
     },
     "execution_count": 52,
     "metadata": {},
     "output_type": "execute_result"
    }
   ],
   "source": [
    "model.fit(X_train, y_train)"
   ]
  },
  {
   "cell_type": "code",
   "execution_count": 53,
   "id": "242ed4a1-cee8-4e1e-9fa6-4d9f75a9e5d8",
   "metadata": {},
   "outputs": [
    {
     "name": "stdout",
     "output_type": "stream",
     "text": [
      "The f1_score of train set is: 0.999924241985566\n"
     ]
    }
   ],
   "source": [
    "print('The f1_score of train set is: {}'.format(f1_score(y_train, model.predict(X_train), average = 'weighted')))"
   ]
  },
  {
   "cell_type": "code",
   "execution_count": 57,
   "id": "4794ebdd-30b4-465f-b2ff-cb9a7bbae30a",
   "metadata": {},
   "outputs": [],
   "source": [
    "model_pred = model.predict(X_test)"
   ]
  },
  {
   "cell_type": "code",
   "execution_count": 58,
   "id": "a936210d-bfb1-4254-a08b-84cc05486dd7",
   "metadata": {},
   "outputs": [
    {
     "name": "stdout",
     "output_type": "stream",
     "text": [
      "The test f1_score is: 0.9993940876416527\n",
      "The log_loss error is: 0.007280083930958538\n"
     ]
    }
   ],
   "source": [
    "print('The test f1_score is: {}'.format(f1_score(y_test, model_pred, average = 'weighted')))\n",
    "print('The log_loss error is: {}'.format(log_loss(y_test, model.predict_proba(X_test))))"
   ]
  },
  {
   "cell_type": "code",
   "execution_count": 59,
   "id": "62b53289-c1b6-4730-8c86-c1f211fb9beb",
   "metadata": {},
   "outputs": [
    {
     "name": "stdout",
     "output_type": "stream",
     "text": [
      "              precision    recall  f1-score   support\n",
      "\n",
      "           0       1.00      1.00      1.00       610\n",
      "           1       1.00      1.00      1.00       562\n",
      "           2       1.00      1.00      1.00       622\n",
      "           3       1.00      1.00      1.00       603\n",
      "           4       1.00      1.00      1.00       595\n",
      "           5       1.00      1.00      1.00       623\n",
      "           6       1.00      1.00      1.00       602\n",
      "           7       1.00      1.00      1.00       566\n",
      "           8       1.00      1.00      1.00       592\n",
      "           9       1.00      1.00      1.00       598\n",
      "          10       1.00      1.00      1.00       627\n",
      "\n",
      "    accuracy                           1.00      6600\n",
      "   macro avg       1.00      1.00      1.00      6600\n",
      "weighted avg       1.00      1.00      1.00      6600\n",
      "\n"
     ]
    }
   ],
   "source": [
    "# # Compare model performance\n",
    "import warnings\n",
    "warnings.filterwarnings('ignore')\n",
    "classification = classification_report(y_test, model_pred)\n",
    "# \n",
    "print(classification)"
   ]
  },
  {
   "cell_type": "markdown",
   "id": "cb8cc629-3141-48a8-af85-07d7856c4f44",
   "metadata": {},
   "source": [
    "#### Preprocess test df"
   ]
  },
  {
   "cell_type": "code",
   "execution_count": 60,
   "id": "dd5646dd-33bc-4c31-bf31-4958362d6efa",
   "metadata": {},
   "outputs": [],
   "source": [
    "test_set  =  preprocess(test_set, 'text')"
   ]
  },
  {
   "cell_type": "code",
   "execution_count": 61,
   "id": "03b0cdce-bcf8-4197-8931-20ef03a31268",
   "metadata": {},
   "outputs": [],
   "source": [
    "test_X = vector.transform(test_set['text'])"
   ]
  },
  {
   "cell_type": "code",
   "execution_count": 62,
   "id": "8f86a804-bb68-4685-9715-e769c93a8bc8",
   "metadata": {},
   "outputs": [],
   "source": [
    "model_test_pred = model.predict(test_X)"
   ]
  },
  {
   "cell_type": "code",
   "execution_count": 63,
   "id": "78ab4cea-ae8c-417f-b0fa-5bf58fb9ca7e",
   "metadata": {},
   "outputs": [
    {
     "data": {
      "text/plain": [
       "5682"
      ]
     },
     "execution_count": 63,
     "metadata": {},
     "output_type": "execute_result"
    }
   ],
   "source": [
    "len(model_test_pred)"
   ]
  },
  {
   "cell_type": "code",
   "execution_count": 64,
   "id": "54e4bd15-8749-4607-bdfc-3b78a24a5ad2",
   "metadata": {},
   "outputs": [],
   "source": [
    "kaggle = test_set[['index']]"
   ]
  },
  {
   "cell_type": "code",
   "execution_count": 65,
   "id": "89657cae-ead1-4a3e-90de-b452ed7180b6",
   "metadata": {},
   "outputs": [],
   "source": [
    "kaggle['lang_id'] = model_test_pred"
   ]
  },
  {
   "cell_type": "code",
   "execution_count": 66,
   "id": "3116eb09-a1d8-4f0f-8e6f-50e708d7aee5",
   "metadata": {},
   "outputs": [
    {
     "data": {
      "text/html": [
       "<div>\n",
       "<style scoped>\n",
       "    .dataframe tbody tr th:only-of-type {\n",
       "        vertical-align: middle;\n",
       "    }\n",
       "\n",
       "    .dataframe tbody tr th {\n",
       "        vertical-align: top;\n",
       "    }\n",
       "\n",
       "    .dataframe thead th {\n",
       "        text-align: right;\n",
       "    }\n",
       "</style>\n",
       "<table border=\"1\" class=\"dataframe\">\n",
       "  <thead>\n",
       "    <tr style=\"text-align: right;\">\n",
       "      <th></th>\n",
       "      <th>index</th>\n",
       "      <th>lang_id</th>\n",
       "    </tr>\n",
       "  </thead>\n",
       "  <tbody>\n",
       "    <tr>\n",
       "      <th>0</th>\n",
       "      <td>1</td>\n",
       "      <td>6</td>\n",
       "    </tr>\n",
       "    <tr>\n",
       "      <th>1</th>\n",
       "      <td>2</td>\n",
       "      <td>2</td>\n",
       "    </tr>\n",
       "    <tr>\n",
       "      <th>2</th>\n",
       "      <td>3</td>\n",
       "      <td>8</td>\n",
       "    </tr>\n",
       "    <tr>\n",
       "      <th>3</th>\n",
       "      <td>4</td>\n",
       "      <td>5</td>\n",
       "    </tr>\n",
       "    <tr>\n",
       "      <th>4</th>\n",
       "      <td>5</td>\n",
       "      <td>0</td>\n",
       "    </tr>\n",
       "  </tbody>\n",
       "</table>\n",
       "</div>"
      ],
      "text/plain": [
       "   index  lang_id\n",
       "0      1        6\n",
       "1      2        2\n",
       "2      3        8\n",
       "3      4        5\n",
       "4      5        0"
      ]
     },
     "execution_count": 66,
     "metadata": {},
     "output_type": "execute_result"
    }
   ],
   "source": [
    "kaggle.head()"
   ]
  },
  {
   "cell_type": "code",
   "execution_count": 67,
   "id": "3381ea9e-a20a-436a-b5d4-d8520c7cd5d4",
   "metadata": {},
   "outputs": [],
   "source": [
    "kaggle['lang_id'] = encoder.inverse_transform(kaggle.lang_id)"
   ]
  },
  {
   "cell_type": "code",
   "execution_count": 68,
   "id": "45ad00eb-d93d-4796-90af-627dcef649fb",
   "metadata": {},
   "outputs": [
    {
     "data": {
      "text/html": [
       "<div>\n",
       "<style scoped>\n",
       "    .dataframe tbody tr th:only-of-type {\n",
       "        vertical-align: middle;\n",
       "    }\n",
       "\n",
       "    .dataframe tbody tr th {\n",
       "        vertical-align: top;\n",
       "    }\n",
       "\n",
       "    .dataframe thead th {\n",
       "        text-align: right;\n",
       "    }\n",
       "</style>\n",
       "<table border=\"1\" class=\"dataframe\">\n",
       "  <thead>\n",
       "    <tr style=\"text-align: right;\">\n",
       "      <th></th>\n",
       "      <th>index</th>\n",
       "      <th>lang_id</th>\n",
       "    </tr>\n",
       "  </thead>\n",
       "  <tbody>\n",
       "    <tr>\n",
       "      <th>0</th>\n",
       "      <td>1</td>\n",
       "      <td>tsn</td>\n",
       "    </tr>\n",
       "    <tr>\n",
       "      <th>1</th>\n",
       "      <td>2</td>\n",
       "      <td>nbl</td>\n",
       "    </tr>\n",
       "    <tr>\n",
       "      <th>2</th>\n",
       "      <td>3</td>\n",
       "      <td>ven</td>\n",
       "    </tr>\n",
       "    <tr>\n",
       "      <th>3</th>\n",
       "      <td>4</td>\n",
       "      <td>ssw</td>\n",
       "    </tr>\n",
       "    <tr>\n",
       "      <th>4</th>\n",
       "      <td>5</td>\n",
       "      <td>afr</td>\n",
       "    </tr>\n",
       "  </tbody>\n",
       "</table>\n",
       "</div>"
      ],
      "text/plain": [
       "   index lang_id\n",
       "0      1     tsn\n",
       "1      2     nbl\n",
       "2      3     ven\n",
       "3      4     ssw\n",
       "4      5     afr"
      ]
     },
     "execution_count": 68,
     "metadata": {},
     "output_type": "execute_result"
    }
   ],
   "source": [
    "kaggle.head()"
   ]
  },
  {
   "cell_type": "code",
   "execution_count": 69,
   "id": "3417c637-2fde-4a37-97b0-f990c8077357",
   "metadata": {},
   "outputs": [],
   "source": [
    "kaggle.to_csv('first_sub.csv', index = False)"
   ]
  },
  {
   "cell_type": "code",
   "execution_count": null,
   "id": "49874bf2-0f18-4a6d-8f15-06be68c3e5f2",
   "metadata": {},
   "outputs": [],
   "source": [
    "# param_grid = {'alpha': (1, 0.1, 0.01, 0.001, 0.0001, 0.00001) }"
   ]
  },
  {
   "cell_type": "code",
   "execution_count": null,
   "id": "50ce6c26-dbf1-4239-b3b0-bea91b03bb82",
   "metadata": {},
   "outputs": [],
   "source": [
    "# grid = GridSearchCV(MultinomialNB(), param_grid, refit=True, verbose=3)"
   ]
  },
  {
   "cell_type": "code",
   "execution_count": null,
   "id": "33e0ad16-6ed3-4661-a5bc-6b71da1a02c7",
   "metadata": {},
   "outputs": [],
   "source": [
    "# grid.fit(X_train, y_train)"
   ]
  },
  {
   "cell_type": "code",
   "execution_count": null,
   "id": "0c27c9d8-2162-4619-b826-9651acd19bae",
   "metadata": {},
   "outputs": [],
   "source": [
    "# grid.best_params_"
   ]
  },
  {
   "cell_type": "code",
   "execution_count": null,
   "id": "84f5d3af-0fca-4af9-bb98-914874278462",
   "metadata": {},
   "outputs": [],
   "source": [
    "# {'C': 10, 'gamma': 0.1, 'kernel': 'rbf'} svc"
   ]
  },
  {
   "cell_type": "code",
   "execution_count": null,
   "id": "eac2a615-c48c-4421-875a-f46896d28b26",
   "metadata": {},
   "outputs": [],
   "source": [
    "# {'max_depth': 48, 'max_features': 'sqrt', 'n_estimators': 72} rfc"
   ]
  }
 ],
 "metadata": {
  "kernelspec": {
   "display_name": "Python 3 (ipykernel)",
   "language": "python",
   "name": "python3"
  },
  "language_info": {
   "codemirror_mode": {
    "name": "ipython",
    "version": 3
   },
   "file_extension": ".py",
   "mimetype": "text/x-python",
   "name": "python",
   "nbconvert_exporter": "python",
   "pygments_lexer": "ipython3",
   "version": "3.9.9"
  }
 },
 "nbformat": 4,
 "nbformat_minor": 5
}
